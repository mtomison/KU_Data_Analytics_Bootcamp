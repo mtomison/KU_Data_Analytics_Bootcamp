{
 "cells": [
  {
   "cell_type": "code",
   "execution_count": 1,
   "id": "8cfcfea1",
   "metadata": {},
   "outputs": [],
   "source": [
    "import pandas as pd\n",
    "import numpy as np\n"
   ]
  },
  {
   "cell_type": "code",
   "execution_count": 2,
   "id": "901d61dd",
   "metadata": {},
   "outputs": [
    {
     "data": {
      "text/html": [
       "<div>\n",
       "<style scoped>\n",
       "    .dataframe tbody tr th:only-of-type {\n",
       "        vertical-align: middle;\n",
       "    }\n",
       "\n",
       "    .dataframe tbody tr th {\n",
       "        vertical-align: top;\n",
       "    }\n",
       "\n",
       "    .dataframe thead th {\n",
       "        text-align: right;\n",
       "    }\n",
       "</style>\n",
       "<table border=\"1\" class=\"dataframe\">\n",
       "  <thead>\n",
       "    <tr style=\"text-align: right;\">\n",
       "      <th></th>\n",
       "      <th>LastName</th>\n",
       "      <th>FirstName</th>\n",
       "      <th>Employer</th>\n",
       "      <th>City</th>\n",
       "      <th>State</th>\n",
       "      <th>Zip</th>\n",
       "      <th>Amount</th>\n",
       "      <th>FIELD8</th>\n",
       "    </tr>\n",
       "  </thead>\n",
       "  <tbody>\n",
       "    <tr>\n",
       "      <th>0</th>\n",
       "      <td>Aaron</td>\n",
       "      <td>Eugene</td>\n",
       "      <td>State Department</td>\n",
       "      <td>Dulles</td>\n",
       "      <td>VA</td>\n",
       "      <td>20189</td>\n",
       "      <td>500.0</td>\n",
       "      <td>NaN</td>\n",
       "    </tr>\n",
       "    <tr>\n",
       "      <th>1</th>\n",
       "      <td>Abadi</td>\n",
       "      <td>Barbara</td>\n",
       "      <td>Abadi &amp; Co.</td>\n",
       "      <td>New York</td>\n",
       "      <td>NY</td>\n",
       "      <td>10021</td>\n",
       "      <td>200.0</td>\n",
       "      <td>NaN</td>\n",
       "    </tr>\n",
       "    <tr>\n",
       "      <th>2</th>\n",
       "      <td>Adamany</td>\n",
       "      <td>Anthony</td>\n",
       "      <td>Retired</td>\n",
       "      <td>Rockford</td>\n",
       "      <td>IL</td>\n",
       "      <td>61103</td>\n",
       "      <td>500.0</td>\n",
       "      <td>NaN</td>\n",
       "    </tr>\n",
       "    <tr>\n",
       "      <th>3</th>\n",
       "      <td>Adams</td>\n",
       "      <td>Lorraine</td>\n",
       "      <td>Self</td>\n",
       "      <td>New York</td>\n",
       "      <td>NY</td>\n",
       "      <td>10026</td>\n",
       "      <td>200.0</td>\n",
       "      <td>NaN</td>\n",
       "    </tr>\n",
       "    <tr>\n",
       "      <th>4</th>\n",
       "      <td>Adams</td>\n",
       "      <td>Marion</td>\n",
       "      <td>None</td>\n",
       "      <td>Exeter</td>\n",
       "      <td>NH</td>\n",
       "      <td>03833</td>\n",
       "      <td>100.0</td>\n",
       "      <td>NaN</td>\n",
       "    </tr>\n",
       "    <tr>\n",
       "      <th>...</th>\n",
       "      <td>...</td>\n",
       "      <td>...</td>\n",
       "      <td>...</td>\n",
       "      <td>...</td>\n",
       "      <td>...</td>\n",
       "      <td>...</td>\n",
       "      <td>...</td>\n",
       "      <td>...</td>\n",
       "    </tr>\n",
       "    <tr>\n",
       "      <th>1771</th>\n",
       "      <td>Zinczenko</td>\n",
       "      <td>David</td>\n",
       "      <td>Rodale</td>\n",
       "      <td>Allentown</td>\n",
       "      <td>PA</td>\n",
       "      <td>18102</td>\n",
       "      <td>500.0</td>\n",
       "      <td>NaN</td>\n",
       "    </tr>\n",
       "    <tr>\n",
       "      <th>1772</th>\n",
       "      <td>Zschiesche</td>\n",
       "      <td>Peter</td>\n",
       "      <td>NaN</td>\n",
       "      <td>San Diego</td>\n",
       "      <td>CA</td>\n",
       "      <td>92104</td>\n",
       "      <td>250.0</td>\n",
       "      <td>NaN</td>\n",
       "    </tr>\n",
       "    <tr>\n",
       "      <th>1773</th>\n",
       "      <td>Zweidinger</td>\n",
       "      <td>Ruth</td>\n",
       "      <td>NaN</td>\n",
       "      <td>Hillsborough</td>\n",
       "      <td>NC</td>\n",
       "      <td>27278</td>\n",
       "      <td>250.0</td>\n",
       "      <td>NaN</td>\n",
       "    </tr>\n",
       "    <tr>\n",
       "      <th>1774</th>\n",
       "      <td>Zwerdling</td>\n",
       "      <td>David</td>\n",
       "      <td>Montg Cnty, Md</td>\n",
       "      <td>Silver Spring</td>\n",
       "      <td>MD</td>\n",
       "      <td>20910</td>\n",
       "      <td>35.0</td>\n",
       "      <td>NaN</td>\n",
       "    </tr>\n",
       "    <tr>\n",
       "      <th>1775</th>\n",
       "      <td>Zyskind</td>\n",
       "      <td>Jon</td>\n",
       "      <td>JDS Uniphase</td>\n",
       "      <td>Concord</td>\n",
       "      <td>MA</td>\n",
       "      <td>10742</td>\n",
       "      <td>25.0</td>\n",
       "      <td>NaN</td>\n",
       "    </tr>\n",
       "  </tbody>\n",
       "</table>\n",
       "<p>1776 rows × 8 columns</p>\n",
       "</div>"
      ],
      "text/plain": [
       "        LastName FirstName          Employer           City State    Zip  \\\n",
       "0          Aaron    Eugene  State Department         Dulles    VA  20189   \n",
       "1          Abadi   Barbara       Abadi & Co.       New York    NY  10021   \n",
       "2        Adamany   Anthony           Retired       Rockford    IL  61103   \n",
       "3          Adams  Lorraine              Self       New York    NY  10026   \n",
       "4          Adams    Marion              None         Exeter    NH  03833   \n",
       "...          ...       ...               ...            ...   ...    ...   \n",
       "1771   Zinczenko     David            Rodale      Allentown    PA  18102   \n",
       "1772  Zschiesche     Peter               NaN      San Diego    CA  92104   \n",
       "1773  Zweidinger      Ruth               NaN   Hillsborough    NC  27278   \n",
       "1774   Zwerdling     David    Montg Cnty, Md  Silver Spring    MD  20910   \n",
       "1775     Zyskind       Jon      JDS Uniphase        Concord    MA  10742   \n",
       "\n",
       "      Amount  FIELD8  \n",
       "0      500.0     NaN  \n",
       "1      200.0     NaN  \n",
       "2      500.0     NaN  \n",
       "3      200.0     NaN  \n",
       "4      100.0     NaN  \n",
       "...      ...     ...  \n",
       "1771   500.0     NaN  \n",
       "1772   250.0     NaN  \n",
       "1773   250.0     NaN  \n",
       "1774    35.0     NaN  \n",
       "1775    25.0     NaN  \n",
       "\n",
       "[1776 rows x 8 columns]"
      ]
     },
     "execution_count": 2,
     "metadata": {},
     "output_type": "execute_result"
    }
   ],
   "source": [
    "donors2008_df = pd.read_csv(\"donors2008.csv\")\n",
    "donors2008_df"
   ]
  },
  {
   "cell_type": "code",
   "execution_count": 4,
   "id": "255d21c7",
   "metadata": {},
   "outputs": [
    {
     "data": {
      "text/html": [
       "<div>\n",
       "<style scoped>\n",
       "    .dataframe tbody tr th:only-of-type {\n",
       "        vertical-align: middle;\n",
       "    }\n",
       "\n",
       "    .dataframe tbody tr th {\n",
       "        vertical-align: top;\n",
       "    }\n",
       "\n",
       "    .dataframe thead th {\n",
       "        text-align: right;\n",
       "    }\n",
       "</style>\n",
       "<table border=\"1\" class=\"dataframe\">\n",
       "  <thead>\n",
       "    <tr style=\"text-align: right;\">\n",
       "      <th></th>\n",
       "      <th>Amount</th>\n",
       "      <th>FIELD8</th>\n",
       "    </tr>\n",
       "    <tr>\n",
       "      <th>State</th>\n",
       "      <th></th>\n",
       "      <th></th>\n",
       "    </tr>\n",
       "  </thead>\n",
       "  <tbody>\n",
       "    <tr>\n",
       "      <th>AE</th>\n",
       "      <td>100.0</td>\n",
       "      <td>NaN</td>\n",
       "    </tr>\n",
       "    <tr>\n",
       "      <th>AK</th>\n",
       "      <td>175.0</td>\n",
       "      <td>NaN</td>\n",
       "    </tr>\n",
       "    <tr>\n",
       "      <th>AL</th>\n",
       "      <td>212.5</td>\n",
       "      <td>NaN</td>\n",
       "    </tr>\n",
       "    <tr>\n",
       "      <th>AP</th>\n",
       "      <td>200.0</td>\n",
       "      <td>NaN</td>\n",
       "    </tr>\n",
       "    <tr>\n",
       "      <th>AR</th>\n",
       "      <td>350.0</td>\n",
       "      <td>NaN</td>\n",
       "    </tr>\n",
       "  </tbody>\n",
       "</table>\n",
       "</div>"
      ],
      "text/plain": [
       "       Amount  FIELD8\n",
       "State                \n",
       "AE      100.0     NaN\n",
       "AK      175.0     NaN\n",
       "AL      212.5     NaN\n",
       "AP      200.0     NaN\n",
       "AR      350.0     NaN"
      ]
     },
     "execution_count": 4,
     "metadata": {},
     "output_type": "execute_result"
    }
   ],
   "source": [
    "Ave_per_state_df = donors2008_df.groupby(\"State\").mean('Amount')\n",
    "Ave_per_state_df.head()"
   ]
  },
  {
   "cell_type": "code",
   "execution_count": 8,
   "id": "cc6f651b",
   "metadata": {},
   "outputs": [
    {
     "data": {
      "text/html": [
       "<div>\n",
       "<style scoped>\n",
       "    .dataframe tbody tr th:only-of-type {\n",
       "        vertical-align: middle;\n",
       "    }\n",
       "\n",
       "    .dataframe tbody tr th {\n",
       "        vertical-align: top;\n",
       "    }\n",
       "\n",
       "    .dataframe thead th {\n",
       "        text-align: right;\n",
       "    }\n",
       "</style>\n",
       "<table border=\"1\" class=\"dataframe\">\n",
       "  <thead>\n",
       "    <tr style=\"text-align: right;\">\n",
       "      <th></th>\n",
       "      <th>Amount</th>\n",
       "      <th>FIELD8</th>\n",
       "    </tr>\n",
       "    <tr>\n",
       "      <th>State</th>\n",
       "      <th></th>\n",
       "      <th></th>\n",
       "    </tr>\n",
       "  </thead>\n",
       "  <tbody>\n",
       "    <tr>\n",
       "      <th>MA</th>\n",
       "      <td>750.714286</td>\n",
       "      <td>NaN</td>\n",
       "    </tr>\n",
       "    <tr>\n",
       "      <th>MD</th>\n",
       "      <td>819.823529</td>\n",
       "      <td>NaN</td>\n",
       "    </tr>\n",
       "    <tr>\n",
       "      <th>CT</th>\n",
       "      <td>825.714286</td>\n",
       "      <td>NaN</td>\n",
       "    </tr>\n",
       "    <tr>\n",
       "      <th>GA</th>\n",
       "      <td>842.307692</td>\n",
       "      <td>NaN</td>\n",
       "    </tr>\n",
       "    <tr>\n",
       "      <th>CO</th>\n",
       "      <td>851.250000</td>\n",
       "      <td>NaN</td>\n",
       "    </tr>\n",
       "    <tr>\n",
       "      <th>PA</th>\n",
       "      <td>896.755556</td>\n",
       "      <td>NaN</td>\n",
       "    </tr>\n",
       "    <tr>\n",
       "      <th>NY</th>\n",
       "      <td>910.829146</td>\n",
       "      <td>NaN</td>\n",
       "    </tr>\n",
       "    <tr>\n",
       "      <th>IL</th>\n",
       "      <td>1114.519231</td>\n",
       "      <td>NaN</td>\n",
       "    </tr>\n",
       "    <tr>\n",
       "      <th>MS</th>\n",
       "      <td>1208.333333</td>\n",
       "      <td>NaN</td>\n",
       "    </tr>\n",
       "  </tbody>\n",
       "</table>\n",
       "</div>"
      ],
      "text/plain": [
       "            Amount  FIELD8\n",
       "State                     \n",
       "MA      750.714286     NaN\n",
       "MD      819.823529     NaN\n",
       "CT      825.714286     NaN\n",
       "GA      842.307692     NaN\n",
       "CO      851.250000     NaN\n",
       "PA      896.755556     NaN\n",
       "NY      910.829146     NaN\n",
       "IL     1114.519231     NaN\n",
       "MS     1208.333333     NaN"
      ]
     },
     "execution_count": 8,
     "metadata": {},
     "output_type": "execute_result"
    }
   ],
   "source": [
    "Ave_per_state_df.loc[(Ave_per_state_df['Amount']>=750)].sort_values(['Amount'])"
   ]
  },
  {
   "cell_type": "code",
   "execution_count": 9,
   "id": "8b58dd8a",
   "metadata": {},
   "outputs": [
    {
     "data": {
      "text/html": [
       "<div>\n",
       "<style scoped>\n",
       "    .dataframe tbody tr th:only-of-type {\n",
       "        vertical-align: middle;\n",
       "    }\n",
       "\n",
       "    .dataframe tbody tr th {\n",
       "        vertical-align: top;\n",
       "    }\n",
       "\n",
       "    .dataframe thead th {\n",
       "        text-align: right;\n",
       "    }\n",
       "</style>\n",
       "<table border=\"1\" class=\"dataframe\">\n",
       "  <thead>\n",
       "    <tr style=\"text-align: right;\">\n",
       "      <th></th>\n",
       "      <th>State</th>\n",
       "      <th>Inches</th>\n",
       "      <th>Milli­metres</th>\n",
       "      <th>Rank</th>\n",
       "    </tr>\n",
       "  </thead>\n",
       "  <tbody>\n",
       "    <tr>\n",
       "      <th>0</th>\n",
       "      <td>Alabama</td>\n",
       "      <td>58.3</td>\n",
       "      <td>1480</td>\n",
       "      <td>4</td>\n",
       "    </tr>\n",
       "    <tr>\n",
       "      <th>1</th>\n",
       "      <td>Alaska</td>\n",
       "      <td>22.5</td>\n",
       "      <td>572</td>\n",
       "      <td>39</td>\n",
       "    </tr>\n",
       "    <tr>\n",
       "      <th>2</th>\n",
       "      <td>Arizona</td>\n",
       "      <td>13.6</td>\n",
       "      <td>345</td>\n",
       "      <td>47</td>\n",
       "    </tr>\n",
       "    <tr>\n",
       "      <th>3</th>\n",
       "      <td>Arkansas</td>\n",
       "      <td>50.6</td>\n",
       "      <td>1284</td>\n",
       "      <td>8</td>\n",
       "    </tr>\n",
       "    <tr>\n",
       "      <th>4</th>\n",
       "      <td>California</td>\n",
       "      <td>22.2</td>\n",
       "      <td>563</td>\n",
       "      <td>40</td>\n",
       "    </tr>\n",
       "  </tbody>\n",
       "</table>\n",
       "</div>"
      ],
      "text/plain": [
       "        State  Inches  Milli­metres  Rank\n",
       "0     Alabama    58.3          1480     4\n",
       "1      Alaska    22.5           572    39\n",
       "2     Arizona    13.6           345    47\n",
       "3    Arkansas    50.6          1284     8\n",
       "4  California    22.2           563    40"
      ]
     },
     "execution_count": 9,
     "metadata": {},
     "output_type": "execute_result"
    }
   ],
   "source": [
    "avg_rain_state_df = pd.read_csv(\"avg_rain_state.csv\")\n",
    "avg_rain_state_df.head()"
   ]
  },
  {
   "cell_type": "code",
   "execution_count": 10,
   "id": "36a85f2c",
   "metadata": {},
   "outputs": [
    {
     "data": {
      "text/html": [
       "<div>\n",
       "<style scoped>\n",
       "    .dataframe tbody tr th:only-of-type {\n",
       "        vertical-align: middle;\n",
       "    }\n",
       "\n",
       "    .dataframe tbody tr th {\n",
       "        vertical-align: top;\n",
       "    }\n",
       "\n",
       "    .dataframe thead th {\n",
       "        text-align: right;\n",
       "    }\n",
       "</style>\n",
       "<table border=\"1\" class=\"dataframe\">\n",
       "  <thead>\n",
       "    <tr style=\"text-align: right;\">\n",
       "      <th></th>\n",
       "      <th>State</th>\n",
       "      <th>Inches</th>\n",
       "      <th>Milli­metres</th>\n",
       "      <th>Rank</th>\n",
       "    </tr>\n",
       "  </thead>\n",
       "  <tbody>\n",
       "    <tr>\n",
       "      <th>8</th>\n",
       "      <td>Florida</td>\n",
       "      <td>54.5</td>\n",
       "      <td>1385</td>\n",
       "      <td>5</td>\n",
       "    </tr>\n",
       "    <tr>\n",
       "      <th>0</th>\n",
       "      <td>Alabama</td>\n",
       "      <td>58.3</td>\n",
       "      <td>1480</td>\n",
       "      <td>4</td>\n",
       "    </tr>\n",
       "    <tr>\n",
       "      <th>23</th>\n",
       "      <td>Mississippi</td>\n",
       "      <td>59.0</td>\n",
       "      <td>1499</td>\n",
       "      <td>3</td>\n",
       "    </tr>\n",
       "    <tr>\n",
       "      <th>17</th>\n",
       "      <td>Louisiana</td>\n",
       "      <td>60.1</td>\n",
       "      <td>1528</td>\n",
       "      <td>2</td>\n",
       "    </tr>\n",
       "    <tr>\n",
       "      <th>10</th>\n",
       "      <td>Hawaii</td>\n",
       "      <td>63.7</td>\n",
       "      <td>1618</td>\n",
       "      <td>1</td>\n",
       "    </tr>\n",
       "  </tbody>\n",
       "</table>\n",
       "</div>"
      ],
      "text/plain": [
       "          State  Inches  Milli­metres  Rank\n",
       "8       Florida    54.5          1385     5\n",
       "0       Alabama    58.3          1480     4\n",
       "23  Mississippi    59.0          1499     3\n",
       "17    Louisiana    60.1          1528     2\n",
       "10       Hawaii    63.7          1618     1"
      ]
     },
     "execution_count": 10,
     "metadata": {},
     "output_type": "execute_result"
    }
   ],
   "source": [
    "avg_rain_state_df.sort_values(['Rank'], ascending=False).tail()"
   ]
  },
  {
   "cell_type": "code",
   "execution_count": 11,
   "id": "c61cb158",
   "metadata": {},
   "outputs": [],
   "source": [
    "import matplotlib.pyplot as plt"
   ]
  },
  {
   "cell_type": "code",
   "execution_count": 12,
   "id": "170b25f0",
   "metadata": {},
   "outputs": [
    {
     "data": {
      "image/png": "[encoded data removed]",
      "text/plain": [
       "<Figure size 1440x216 with 1 Axes>"
      ]
     },
     "metadata": {
      "needs_background": "light"
     },
     "output_type": "display_data"
    }
   ],
   "source": [
    "# Create graph\n",
    "x_axis = np.arange(len(avg_rain_state_df))\n",
    "tick_locations = [value for value in x_axis]\n",
    "plt.figure(figsize=(20,3))\n",
    "plt.bar(avg_rain_state_df[\"State\"], avg_rain_state_df[\"Inches\"])\n",
    "plt.xticks(tick_locations,avg_rain_state_df['State'], rotation='vertical')\n",
    "\n",
    "plt.title(\"Rain in Inches by State\")\n",
    "plt.xlabel(\"State\")\n",
    "plt.ylabel(\"Rain (Inches)\")\n",
    "plt.show()"
   ]
  },
  {
   "cell_type": "code",
   "execution_count": 29,
   "id": "362d39fa",
   "metadata": {},
   "outputs": [
    {
     "data": {
      "text/plain": [
       "41.75"
      ]
     },
     "execution_count": 29,
     "metadata": {},
     "output_type": "execute_result"
    }
   ],
   "source": [
    "avg_rain_state_df.median()['Inches']"
   ]
  },
  {
   "cell_type": "code",
   "execution_count": 30,
   "id": "369b6c4e",
   "metadata": {},
   "outputs": [
    {
     "data": {
      "text/plain": [
       "([<matplotlib.patches.Wedge at 0x23a6896df08>,\n",
       "  <matplotlib.patches.Wedge at 0x23a6897ae48>,\n",
       "  <matplotlib.patches.Wedge at 0x23a68983dc8>,\n",
       "  <matplotlib.patches.Wedge at 0x23a689922c8>,\n",
       "  <matplotlib.patches.Wedge at 0x23a68998748>,\n",
       "  <matplotlib.patches.Wedge at 0x23a6899ebc8>,\n",
       "  <matplotlib.patches.Wedge at 0x23a689a6f48>,\n",
       "  <matplotlib.patches.Wedge at 0x23a689b3488>,\n",
       "  <matplotlib.patches.Wedge at 0x23a68998708>,\n",
       "  <matplotlib.patches.Wedge at 0x23a6899eb88>],\n",
       " [Text(-1.099751577456762, -0.023376652484126886, 'Apple'),\n",
       "  Text(-0.5989246480903716, -0.9226533834056128, 'Pumpkin'),\n",
       "  Text(0.24447706998974378, -1.0724882107740066, 'Chocolate Creme'),\n",
       "  Text(1.0248262556745495, -0.7998319483992141, 'Cherry'),\n",
       "  Text(1.0980275130296324, -0.06584512609116011, 'Apple Crumb'),\n",
       "  Text(0.9610150183143531, 0.535210364785907, 'Pecan'),\n",
       "  Text(0.5333524873025427, 0.9620473607303287, 'Lemon Meringue'),\n",
       "  Text(-0.017001865605258005, 1.0998685996817714, 'Blueberry'),\n",
       "  Text(-0.4957883107572488, 0.9819337813297158, 'Key Lime'),\n",
       "  Text(-0.8348572449791529, 0.7162495239131533, 'Peach')],\n",
       " [Text(-0.5998644967945974, -0.0127509013549783, '17.3%'),\n",
       "  Text(-0.32668617168565717, -0.5032654818576069, '13.7%'),\n",
       "  Text(0.13335112908531477, -0.5849935695130944, '11.8%'),\n",
       "  Text(0.6306623111843381, -0.4922042759379779, '10.0%'),\n",
       "  Text(0.5989240980161631, -0.035915523322450967, '9.2%'),\n",
       "  Text(0.5241900099896472, 0.2919329262468583, '8.9%'),\n",
       "  Text(0.2909195385286596, 0.5247531058529066, '8.9%'),\n",
       "  Text(-0.009273744875595274, 0.599928327099148, '7.7%'),\n",
       "  Text(-0.27042998768577203, 0.5356002443616631, '6.6%'),\n",
       "  Text(-0.4553766790795379, 0.39068155849808356, '5.9%')])"
      ]
     },
     "execution_count": 30,
     "metadata": {},
     "output_type": "execute_result"
    },
    {
     "data": {
      "image/png": "[encoded data removed]",
      "text/plain": [
       "<Figure size 432x288 with 1 Axes>"
      ]
     },
     "metadata": {},
     "output_type": "display_data"
    }
   ],
   "source": [
    "pies = [\"Apple\", \"Pumpkin\", \"Chocolate Creme\", \"Cherry\", \"Apple Crumb\", \"Pecan\", \"Lemon Meringue\", \"Blueberry\", \"Key Lime\", \"Peach\"]\n",
    "pie_votes = [47,37,32,27,25,24,24,21,18,16]\n",
    "colors = [\"yellow\",\"green\",\"lightblue\",\"orange\",\"red\",\"purple\",\"pink\",\"yellowgreen\",\"lightskyblue\",\"lightcoral\"]\n",
    "offset = (0,0,0,0.2,0,0,0,0,0,0)\n",
    "plt.pie(pie_votes, \n",
    "        explode=offset, \n",
    "        labels=pies,\n",
    "        colors=colors,\n",
    "        autopct='%1.1f%%',\n",
    "        shadow=True, startangle=150)"
   ]
  },
  {
   "cell_type": "code",
   "execution_count": 31,
   "id": "371ce467",
   "metadata": {},
   "outputs": [
    {
     "data": {
      "text/plain": [
       "{'Class': ['Oct', 'Oct', 'Jan', 'Jan', 'Oct', 'Jan'],\n",
       " 'Name': ['Cyndy', 'Logan', 'Laci', 'Elmer', 'Crystle', 'Emmie'],\n",
       " 'Test Score': [90, 59, 72, 88, 98, 60]}"
      ]
     },
     "execution_count": 31,
     "metadata": {},
     "output_type": "execute_result"
    }
   ],
   "source": [
    "test_grades = {\n",
    "    'Class': ['Oct', 'Oct', 'Jan', 'Jan', 'Oct', 'Jan'], \n",
    "    'Name': [\"Cyndy\", \"Logan\", \"Laci\", \"Elmer\", \"Crystle\", \"Emmie\"], \n",
    "    'Test Score': [90, 59, 72, 88, 98, 60]}\n",
    "\n",
    "test_grades"
   ]
  },
  {
   "cell_type": "code",
   "execution_count": 32,
   "id": "74807db8",
   "metadata": {},
   "outputs": [
    {
     "data": {
      "text/html": [
       "<div>\n",
       "<style scoped>\n",
       "    .dataframe tbody tr th:only-of-type {\n",
       "        vertical-align: middle;\n",
       "    }\n",
       "\n",
       "    .dataframe tbody tr th {\n",
       "        vertical-align: top;\n",
       "    }\n",
       "\n",
       "    .dataframe thead th {\n",
       "        text-align: right;\n",
       "    }\n",
       "</style>\n",
       "<table border=\"1\" class=\"dataframe\">\n",
       "  <thead>\n",
       "    <tr style=\"text-align: right;\">\n",
       "      <th></th>\n",
       "      <th>Class</th>\n",
       "      <th>Name</th>\n",
       "      <th>Test Score</th>\n",
       "    </tr>\n",
       "  </thead>\n",
       "  <tbody>\n",
       "    <tr>\n",
       "      <th>0</th>\n",
       "      <td>Oct</td>\n",
       "      <td>Cyndy</td>\n",
       "      <td>90</td>\n",
       "    </tr>\n",
       "    <tr>\n",
       "      <th>1</th>\n",
       "      <td>Oct</td>\n",
       "      <td>Logan</td>\n",
       "      <td>59</td>\n",
       "    </tr>\n",
       "    <tr>\n",
       "      <th>2</th>\n",
       "      <td>Jan</td>\n",
       "      <td>Laci</td>\n",
       "      <td>72</td>\n",
       "    </tr>\n",
       "    <tr>\n",
       "      <th>3</th>\n",
       "      <td>Jan</td>\n",
       "      <td>Elmer</td>\n",
       "      <td>88</td>\n",
       "    </tr>\n",
       "    <tr>\n",
       "      <th>4</th>\n",
       "      <td>Oct</td>\n",
       "      <td>Crystle</td>\n",
       "      <td>98</td>\n",
       "    </tr>\n",
       "  </tbody>\n",
       "</table>\n",
       "</div>"
      ],
      "text/plain": [
       "  Class     Name  Test Score\n",
       "0   Oct    Cyndy          90\n",
       "1   Oct    Logan          59\n",
       "2   Jan     Laci          72\n",
       "3   Jan    Elmer          88\n",
       "4   Oct  Crystle          98"
      ]
     },
     "execution_count": 32,
     "metadata": {},
     "output_type": "execute_result"
    }
   ],
   "source": [
    "test_grades_df = pd.DataFrame(test_grades)\n",
    "test_grades_df.head()"
   ]
  },
  {
   "cell_type": "raw",
   "id": "3995b10b",
   "metadata": {},
   "source": [
    "bins = [0,59,69,79,89,100]\n",
    "group_names = ['F','D','C','B','A']\n",
    "test_grades_df['Letter Grade'] = pd.cut(test_grades_df['Test Score'], bins, labels=group_names)\n",
    "test_grades_df.head()"
   ]
  },
  {
   "cell_type": "code",
   "execution_count": 33,
   "id": "9358bb3b",
   "metadata": {},
   "outputs": [
    {
     "ename": "TypeError",
     "evalue": "object of type 'Response' has no len()",
     "output_type": "error",
     "traceback": [
      "\u001b[1;31m---------------------------------------------------------------------------\u001b[0m",
      "\u001b[1;31mTypeError\u001b[0m                                 Traceback (most recent call last)",
      "\u001b[1;32m<ipython-input-33-e7ad45f18310>\u001b[0m in \u001b[0;36m<module>\u001b[1;34m\u001b[0m\n\u001b[0;32m      2\u001b[0m \u001b[0murl\u001b[0m \u001b[1;33m=\u001b[0m \u001b[1;34m\"https://api.spacexdata.com/v2/launchpads\"\u001b[0m\u001b[1;33m\u001b[0m\u001b[1;33m\u001b[0m\u001b[0m\n\u001b[0;32m      3\u001b[0m \u001b[0mreq_url\u001b[0m \u001b[1;33m=\u001b[0m \u001b[0mrequests\u001b[0m\u001b[1;33m.\u001b[0m\u001b[0mget\u001b[0m\u001b[1;33m(\u001b[0m\u001b[0murl\u001b[0m\u001b[1;33m)\u001b[0m\u001b[1;33m\u001b[0m\u001b[1;33m\u001b[0m\u001b[0m\n\u001b[1;32m----> 4\u001b[1;33m \u001b[0mlen\u001b[0m\u001b[1;33m(\u001b[0m\u001b[0mreq_url\u001b[0m\u001b[1;33m)\u001b[0m\u001b[1;33m\u001b[0m\u001b[1;33m\u001b[0m\u001b[0m\n\u001b[0m",
      "\u001b[1;31mTypeError\u001b[0m: object of type 'Response' has no len()"
     ]
    }
   ],
   "source": [
    "import requests\n",
    "url = \"https://api.spacexdata.com/v2/launchpads\"\n",
    "req_url = requests.get(url)\n",
    "len(req_url)"
   ]
  },
  {
   "cell_type": "code",
   "execution_count": 34,
   "id": "c969fbb6",
   "metadata": {},
   "outputs": [
    {
     "data": {
      "text/plain": [
       "[{'padid': 5,\n",
       "  'id': 'vafb_slc_3w',\n",
       "  'name': 'VAFB SLC 3W',\n",
       "  'full_name': 'Vandenberg Air Force Base Space Launch Complex 3W',\n",
       "  'status': 'retired',\n",
       "  'location': {'name': 'Vandenberg Air Force Base',\n",
       "   'region': 'California',\n",
       "   'latitude': 34.6440904,\n",
       "   'longitude': -120.5931438},\n",
       "  'vehicles_launched': ['Falcon 1'],\n",
       "  'attempted_launches': 0,\n",
       "  'successful_launches': 0,\n",
       "  'wikipedia': 'https://en.wikipedia.org/wiki/Vandenberg_AFB_Space_Launch_Complex_3',\n",
       "  'details': 'SpaceX original west coast launch pad for Falcon 1. Performed a static fire but was never used for a launch and abandoned due to scheduling conflicts.'},\n",
       " {'padid': 2,\n",
       "  'id': 'ccafs_slc_40',\n",
       "  'name': 'CCAFS SLC 40',\n",
       "  'full_name': 'Cape Canaveral Air Force Station Space Launch Complex 40',\n",
       "  'status': 'active',\n",
       "  'location': {'name': 'Cape Canaveral',\n",
       "   'region': 'Florida',\n",
       "   'latitude': 28.5618571,\n",
       "   'longitude': -80.577366},\n",
       "  'vehicles_launched': ['Falcon 9'],\n",
       "  'attempted_launches': 61,\n",
       "  'successful_launches': 59,\n",
       "  'wikipedia': 'https://en.wikipedia.org/wiki/Cape_Canaveral_Air_Force_Station_Space_Launch_Complex_40',\n",
       "  'details': 'SpaceX primary Falcon 9 launch pad, where all east coast Falcon 9s launched prior to the AMOS-6 anomaly. Initially used to launch Titan rockets for Lockheed Martin. Back online since CRS-13 on 2017-12-15.'},\n",
       " {'padid': 8,\n",
       "  'id': 'stls',\n",
       "  'name': 'STLS',\n",
       "  'full_name': 'SpaceX South Texas Launch Site',\n",
       "  'status': 'under construction',\n",
       "  'location': {'name': 'Boca Chica Village',\n",
       "   'region': 'Texas',\n",
       "   'latitude': 25.9972641,\n",
       "   'longitude': -97.1560845},\n",
       "  'vehicles_launched': ['Falcon 9'],\n",
       "  'attempted_launches': 0,\n",
       "  'successful_launches': 0,\n",
       "  'wikipedia': 'https://en.wikipedia.org/wiki/SpaceX_South_Texas_Launch_Site',\n",
       "  'details': 'SpaceX new launch site currently under construction to help keep up with the Falcon 9 and Heavy manifests. Expected to be completed in late 2018. Initially will be limited to 12 flights per year, and only GTO launches.'},\n",
       " {'padid': 1,\n",
       "  'id': 'kwajalein_atoll',\n",
       "  'name': 'Kwajalein Atoll',\n",
       "  'full_name': 'Kwajalein Atoll Omelek Island',\n",
       "  'status': 'retired',\n",
       "  'location': {'name': 'Omelek Island',\n",
       "   'region': 'Marshall Islands',\n",
       "   'latitude': 9.0477206,\n",
       "   'longitude': 167.7431292},\n",
       "  'vehicles_launched': ['Falcon 1'],\n",
       "  'attempted_launches': 5,\n",
       "  'successful_launches': 2,\n",
       "  'wikipedia': 'https://en.wikipedia.org/wiki/Omelek_Island',\n",
       "  'details': 'SpaceX original launch site, where all of the Falcon 1 launches occured. Abandoned as SpaceX decided against upgrading the pad to support Falcon 9.'},\n",
       " {'padid': 6,\n",
       "  'id': 'vafb_slc_4e',\n",
       "  'name': 'VAFB SLC 4E',\n",
       "  'full_name': 'Vandenberg Air Force Base Space Launch Complex 4E',\n",
       "  'status': 'active',\n",
       "  'location': {'name': 'Vandenberg Air Force Base',\n",
       "   'region': 'California',\n",
       "   'latitude': 34.632093,\n",
       "   'longitude': -120.610829},\n",
       "  'vehicles_launched': ['Falcon 9'],\n",
       "  'attempted_launches': 16,\n",
       "  'successful_launches': 16,\n",
       "  'wikipedia': 'https://en.wikipedia.org/wiki/Vandenberg_AFB_Space_Launch_Complex_4',\n",
       "  'details': 'SpaceX primary west coast launch pad for polar orbits and sun synchronous orbits, primarily used for Iridium. Also intended to be capable of launching Falcon Heavy.'},\n",
       " {'padid': 4,\n",
       "  'id': 'ksc_lc_39a',\n",
       "  'name': 'KSC LC 39A',\n",
       "  'full_name': 'Kennedy Space Center Historic Launch Complex 39A',\n",
       "  'status': 'active',\n",
       "  'location': {'name': 'Cape Canaveral',\n",
       "   'region': 'Florida',\n",
       "   'latitude': 28.6080585,\n",
       "   'longitude': -80.6039558},\n",
       "  'vehicles_launched': ['Falcon 9', 'Falcon Heavy'],\n",
       "  'attempted_launches': 27,\n",
       "  'successful_launches': 26,\n",
       "  'wikipedia': 'https://en.wikipedia.org/wiki/Kennedy_Space_Center_Launch_Complex_39#Launch_Complex_39A',\n",
       "  'details': 'NASA historic launch pad that launched most of the Saturn V and Space Shuttle missions. Initially for Falcon Heavy launches, it is now launching all of SpaceX east coast missions due to the damage from the AMOS-6 anomaly. After SLC-40 repairs are complete, it will be upgraded to support Falcon Heavy, a process which will take about two months. In the future it will launch commercial crew missions and the Interplanetary Transport System.'}]"
      ]
     },
     "execution_count": 34,
     "metadata": {},
     "output_type": "execute_result"
    }
   ],
   "source": [
    "import requests\n",
    "url = \"https://api.spacexdata.com/v2/launchpads\"\n",
    "full_names=requests.get(url)\n",
    "full_names_json = full_names.json()\n",
    "full_names_json"
   ]
  },
  {
   "cell_type": "code",
   "execution_count": 35,
   "id": "80d6918a",
   "metadata": {},
   "outputs": [
    {
     "name": "stdout",
     "output_type": "stream",
     "text": [
      "Vandenberg Air Force Base Space Launch Complex 3W\n",
      "Cape Canaveral Air Force Station Space Launch Complex 40\n",
      "SpaceX South Texas Launch Site\n",
      "Kwajalein Atoll Omelek Island\n",
      "Vandenberg Air Force Base Space Launch Complex 4E\n",
      "Kennedy Space Center Historic Launch Complex 39A\n"
     ]
    }
   ],
   "source": [
    "for full_name in full_names_json:\n",
    "    print(full_name['full_name'])"
   ]
  },
  {
   "cell_type": "code",
   "execution_count": 21,
   "id": "3e14b374",
   "metadata": {},
   "outputs": [
    {
     "name": "stdout",
     "output_type": "stream",
     "text": [
      "I made it through the gauntlet. The message survived\n"
     ]
    }
   ],
   "source": [
    "try:\n",
    "    print(\"Infinity looks like + \" + str(10 / 0) + \".\")\n",
    "except ZeroDivisionError:\n",
    "    try:\n",
    "        print(\"I think her name was + \" + name + \"?\")\n",
    "    except NameError:\n",
    "        try:\n",
    "            print(\"Your name is a nonsense number. Look: \" + int(\"Gabriel\"))\n",
    "        except ValueError:\n",
    "            print(\"I made it through the gauntlet. The message survived\")"
   ]
  },
  {
   "cell_type": "code",
   "execution_count": 22,
   "id": "cbb6a07c",
   "metadata": {},
   "outputs": [],
   "source": [
    "import json\n",
    "import os\n",
    "\n",
    "filepath = os.path.join(\"youtube_response.json\")\n",
    "with open(filepath) as jsonfile:\n",
    "    video_json = json.load(jsonfile)"
   ]
  },
  {
   "cell_type": "code",
   "execution_count": 24,
   "id": "5ce5a8bf",
   "metadata": {},
   "outputs": [
    {
     "data": {
      "text/plain": [
       "{'apiVersion': '2.0',\n",
       " 'data': {'updated': '2010-01-07T19:58:42.949Z',\n",
       "  'totalItems': 800,\n",
       "  'startIndex': 1,\n",
       "  'itemsPerPage': 1,\n",
       "  'items': [{'id': 'hYB0mn5zh2c',\n",
       "    'uploaded': '2007-06-05T22:07:03.000Z',\n",
       "    'updated': '2010-01-07T13:26:50.000Z',\n",
       "    'uploader': 'GoogleDeveloperDay',\n",
       "    'category': 'News',\n",
       "    'title': 'Google Developers Day US - Maps API Introduction',\n",
       "    'description': 'Google Maps API Introduction ...',\n",
       "    'tags': ['GDD07', 'GDD07US', 'Maps'],\n",
       "    'thumbnail': {'default': 'http://i.ytimg.com/vi/hYB0mn5zh2c/default.jpg',\n",
       "     'hqDefault': 'http://i.ytimg.com/vi/hYB0mn5zh2c/hqdefault.jpg'},\n",
       "    'player': {'default': 'http://www.youtube.com/watch?vu003dhYB0mn5zh2c'},\n",
       "    'content': {'1': 'rtsp://v5.cache3.c.youtube.com/CiILENy.../0/0/0/video.3gp',\n",
       "     '5': 'http://www.youtube.com/v/hYB0mn5zh2c?f...',\n",
       "     '6': 'rtsp://v1.cache1.c.youtube.com/CiILENy.../0/0/0/video.3gp'},\n",
       "    'duration': 2840,\n",
       "    'aspectRatio': 'widescreen',\n",
       "    'rating': 4.63,\n",
       "    'ratingCount': 68,\n",
       "    'viewCount': 220101,\n",
       "    'favoriteCount': 201,\n",
       "    'commentCount': 22,\n",
       "    'status': {'value': 'restricted', 'reason': 'limitedSyndication'},\n",
       "    'accessControl': {'syndicate': 'allowed',\n",
       "     'commentVote': 'allowed',\n",
       "     'rate': 'allowed',\n",
       "     'list': 'allowed',\n",
       "     'comment': 'allowed',\n",
       "     'embed': 'allowed',\n",
       "     'videoRespond': 'moderated'}}]}}"
      ]
     },
     "execution_count": 24,
     "metadata": {},
     "output_type": "execute_result"
    }
   ],
   "source": [
    "video_json"
   ]
  },
  {
   "cell_type": "code",
   "execution_count": 27,
   "id": "b1832ebd",
   "metadata": {},
   "outputs": [
    {
     "data": {
      "text/plain": [
       "'http://i.ytimg.com/vi/hYB0mn5zh2c/default.jpg'"
      ]
     },
     "execution_count": 27,
     "metadata": {},
     "output_type": "execute_result"
    }
   ],
   "source": [
    "video_json['data']['items'][0]['thumbnail']['default']"
   ]
  },
  {
   "cell_type": "code",
   "execution_count": null,
   "id": "50ea9427",
   "metadata": {},
   "outputs": [],
   "source": [
    "avg_rain_state_df.columns"
   ]
  },
  {
   "cell_type": "code",
   "execution_count": null,
   "id": "d8c8d50f",
   "metadata": {},
   "outputs": [],
   "source": []
  }
 ],
 "metadata": {
  "kernelspec": {
   "display_name": "PythonData",
   "language": "python",
   "name": "pythondata"
  },
  "language_info": {
   "codemirror_mode": {
    "name": "ipython",
    "version": 3
   },
   "file_extension": ".py",
   "mimetype": "text/x-python",
   "name": "python",
   "nbconvert_exporter": "python",
   "pygments_lexer": "ipython3",
   "version": "3.7.10"
  }
 },
 "nbformat": 4,
 "nbformat_minor": 5
}
